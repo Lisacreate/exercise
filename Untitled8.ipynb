{
  "nbformat": 4,
  "nbformat_minor": 0,
  "metadata": {
    "colab": {
      "provenance": [],
      "mount_file_id": "1NN1C5mGXd0cmScqB6oNexQWfycQscIOg",
      "authorship_tag": "ABX9TyMHHSmAGNmFBuWlF4wGxlTl",
      "include_colab_link": true
    },
    "kernelspec": {
      "name": "python3",
      "display_name": "Python 3"
    },
    "language_info": {
      "name": "python"
    }
  },
  "cells": [
    {
      "cell_type": "markdown",
      "metadata": {
        "id": "view-in-github",
        "colab_type": "text"
      },
      "source": [
        "<a href=\"https://colab.research.google.com/github/Lisacreate/exercise/blob/main/Untitled8.ipynb\" target=\"_parent\"><img src=\"https://colab.research.google.com/assets/colab-badge.svg\" alt=\"Open In Colab\"/></a>"
      ]
    },
    {
      "cell_type": "markdown",
      "source": [
        "Stereo rectification"
      ],
      "metadata": {
        "id": "YVE5bjKalQka"
      }
    },
    {
      "cell_type": "code",
      "source": [
        "import cv2\n",
        "import numpy as np\n",
        "from google.colab.patches import cv2_imshow \n",
        "from PIL import Image\n",
        "from numpy import asarray \n",
        "from matplotlib import pyplot as plt\n",
        "\n",
        "\n",
        "input_path = \"/content/drive/MyDrive/Project /\"\n",
        "output_path = \"/content/drive/MyDrive/Project /\"\n",
        "imgL = cv2.imread(input_path + 'left_image.png', 0)\n",
        "imgR = cv2.imread(input_path + 'right_image.png', 0) \n",
        "\n",
        "cameraMatrixR = np.array([[ 2.7470344161863427e+03, 0., 9.5950000000000000e+02], \n",
        "                            [0., 2.9301700439320989e+03, 5.3950000000000000e+02], \n",
        "                            [0., 0., 1. ]])\n",
        "cameraMatrixL = np.array([[ 3.8922861569591882e+03, 0., 9.5950000000000000e+02], \n",
        "                  [0., 4.1517719007564674e+03, 5.3950000000000000e+02], \n",
        "                  [0., 0., 1. ]])\n",
        "\n",
        "distortion_coefficientsR = np.array([[ -2.8184069791869992e-01], [0.], [0.], [0.], [0. ]]) \n",
        "distortion_coefficientsL = np.array([[-6.1159900520624888e-01], [0.], [0.], [0.], [0. ]])\n",
        "\n",
        "R = np.array([[ 9.9990549879940105e-01, -7.5019414964265820e-03, -1.1520171201209756e-02], \n",
        "       [7.2858186542670792e-03, 9.9979879644645819e-01, -1.8689127072999068e-02],\n",
        "       [1.1658058039747596e-02, 1.8603427049814391e-02,\n",
        "       9.9975897204513453e-01]]) \n",
        "\n",
        "\n",
        "T = np.array([[ -1.0054615507162461e+00], [-1.2445275861032211e-02],\n",
        "       [-3.7161139312850124e-02 ]])\n",
        "\n",
        "R1 = np.array([[ 9.9966749675945588e-01, 5.5565928109105019e-03, 2.5179757723558290e-02], \n",
        "       [-5.3208002237091117e-03, 9.9994145848036231e-01, -9.4217141298767199e-03],\n",
        "       [-2.5230636291277565e-02, 9.2846049188685994e-03, 9.9963854022533449e-01 ]]) \n",
        "R2 = np.array([[ 9.9924126662684520e-01, 1.2368283208880530e-02, 3.6931242064720066e-02], \n",
        "       [-1.2713259963283182e-02, 9.9987758393267567e-01, 9.1208645457030914e-03],\n",
        "       [-3.6813911651494002e-02, -9.5834607225159744e-03, 9.9927618464041057e-01]])\n",
        "\n",
        "P1 = np.array([[ 2.6319137062321288e+03, 0., 8.5265399169921875e+02, 0.], \n",
        "                 [0.,2.6319137062321288e+03, 5.4005282592773438e+02, 0.], \n",
        "                 [0., 0., 1., 0. ]]) \n",
        "\n",
        "P2 = np.array([[ 2.6319137062321288e+03, 0., 8.5265399169921875e+02, -2.6482973880298359e+03], \n",
        "       [0., 2.6319137062321288e+03, 5.4005282592773438e+02, 0.], \n",
        "       [0., 0., 1., 0.]])\n",
        "\n",
        "Q =   np.array([[ 1., 0., 0., -8.5265399169921875e+02], \n",
        "                  [0., 1., 0., -5.4005282592773438e+02], \n",
        "       [0., 0., 0., 2.6319137062321288e+03], \n",
        "       [0., 0., 9.9381350377349609e-01, 0. ]])\n",
        "\n",
        "M1 = np.array([[ 2.8684780535996128e+03, 0., 9.5950000000000000e+02], \n",
        "               [0., 3.0597099238395872e+03, 5.3950000000000000e+02], \n",
        "               [0., 0., 1. ]])\n",
        "\n",
        "M2 = np.array([[2.8741139085480700e+03, 0., 9.5950000000000000e+02], \n",
        "               [0., 3.0657215024512748e+03, 5.3950000000000000e+02], \n",
        "               [0., 0., 1. ]])\n",
        "\n",
        "d1 = np.array([[ -2.8970594823114904e-01], [0.], [0.], [0.], [0. ]])\n",
        "\n",
        "d2 = np.array([[ -2.9565176913509805e-01], [0.], [0.], [0.], [0. ]])\n",
        "\n",
        "\n",
        "imageSize = imgR.shape[::-1]\n",
        "\n",
        "RL, RR, PL, PR, Q, roi_L, roi_R = cv2.stereoRectify(M1, d1, M2, d2, imageSize, R, T, alpha= -1) \n",
        "\n",
        "\n",
        "mapLx, mapLy = cv2.initUndistortRectifyMap(M1, d1, R1,P1, imageSize,  cv2.CV_32FC1) \n",
        "mapRx, mapRy = cv2.initUndistortRectifyMap( M2, d2, R2, P2, imageSize,  cv2.CV_32FC1) \n",
        "\n",
        "\n",
        "Left_nice = cv2.remap(imgL, mapLx, mapLy, cv2.INTER_LINEAR, cv2.BORDER_CONSTANT, 0)\n",
        "Right_nice = cv2.remap(imgR, mapRx, mapRy, cv2.INTER_LINEAR, cv2.BORDER_CONSTANT, 0)\n",
        "cv2.imwrite(input_path + 'Left_nice.png', Left_nice)\n",
        "cv2.imwrite(input_path + 'Right_nice.png', Right_nice) \n"
      ],
      "metadata": {
        "colab": {
          "base_uri": "https://localhost:8080/"
        },
        "id": "OpWDg207WDON",
        "outputId": "b2e0d5fd-e49c-4c2f-8e59-1d6d0dc89500"
      },
      "execution_count": null,
      "outputs": [
        {
          "output_type": "execute_result",
          "data": {
            "text/plain": [
              "True"
            ]
          },
          "metadata": {},
          "execution_count": 17
        }
      ]
    },
    {
      "cell_type": "markdown",
      "source": [
        "Disparity map "
      ],
      "metadata": {
        "id": "5spRWpQNlg3I"
      }
    },
    {
      "cell_type": "code",
      "source": [
        "import cv2 as cv\n",
        "\n",
        "def create_output(vertices, colors, filename): \n",
        "    colors = colors.reshape(-1, 3) \n",
        "    ''' ndarray.reshape(), который, в общем-то удобней, так как позволяет \n",
        "    задавать форму числами\n",
        "    '''\n",
        "    vertices = np.hstack([vertices.reshape(-1,3), colors])\n",
        "\n",
        "    ply_header = '''ply\n",
        "        format ascii 1.0\n",
        "        element vertex %(vert_num)d\n",
        "        property float x\n",
        "        property float y\n",
        "        property float z\n",
        "        property uchar red\n",
        "        property uchar green\n",
        "        property uchar blue\n",
        "        end_header\n",
        "    '''\n",
        "\n",
        "    with open(filename, 'w') as f:\n",
        "        f.write(ply_header % dict(vert_num=len(vertices)))\n",
        "        np.savetxt(f, vertices, '%f %f %f %d %d %d')\n",
        "\n",
        "\n",
        "input_path = \"/content/drive/MyDrive/Project /\"\n",
        "output_path = \"/content/drive/MyDrive/Project /\"\n",
        "\n",
        "\n",
        "imgL = Left_nice\n",
        "imgR = Right_nice\n",
        "\n",
        "\n",
        "win_size = 1\n",
        "min_disp = 8\n",
        "max_disp = 320 \n",
        "num_disp = max_disp - min_disp\n",
        "stereo = cv.StereoSGBM_create(minDisparity = min_disp, # Disparity map \n",
        "        numDisparities = num_disp,\n",
        "        P1 = 8*3*win_size**2,\n",
        "        P2 = 32*3*win_size**2,\n",
        "        disp12MaxDiff = 1,\n",
        "        uniquenessRatio = 10, \n",
        "        speckleWindowSize = 100, \n",
        "        speckleRange = 32)\n",
        "disparity_map = stereo.compute(imgL,imgR) \n",
        "img = Image.open(input_path + 'mask.png')\n",
        "numpydata = asarray(img)\n",
        "disparity_map = cv2.bitwise_or(disparity_map, disparity_map, mask = numpydata)\n",
        "plt.imshow(disparity_map,'gray') \n",
        "plt.show() \n",
        "h, w = imgL.shape[:2]\n",
        "focal_length = 0.8*w                          \n",
        "\n",
        "    # Perspective transformation matrix\n",
        "Q = np.float32([[ 1., 0., 0., -8.5265399169921875e+02], \n",
        "                [0., 1., 0., -5.4005282592773438e+02], \n",
        "                [0., 0., 0., 2.6319137062321288e+03], \n",
        "                [0., 0., 9.9381350377349609e-01, 0. ]])\n",
        "\n",
        "points_3D = cv2.reprojectImageTo3D(disparity_map, Q)\n",
        "colors = cv2.cvtColor(imgL, cv2.COLOR_BGR2RGB)\n",
        "mask_map = disparity_map > disparity_map.min()\n",
        "output_points = points_3D[mask_map]\n",
        "output_colors = colors[mask_map]\n",
        "\n",
        "Cloud_filename = input_path + 'Cloud8.ply'\n",
        "\n",
        "print(\"\\nCreating the output file ...\\n\")\n",
        "create_output(output_points, output_colors, Cloud_filename) \n",
        "\n",
        "\n"
      ],
      "metadata": {
        "colab": {
          "base_uri": "https://localhost:8080/",
          "height": 292
        },
        "id": "YUMj3dnpZ1RF",
        "outputId": "d0f3e75c-4315-4d35-a199-8864a08dab74"
      },
      "execution_count": null,
      "outputs": [
        {
          "output_type": "display_data",
          "data": {
            "text/plain": [
              "<Figure size 432x288 with 1 Axes>"
            ],
            "image/png": "[encoded data removed]"
          },
          "metadata": {
            "needs_background": "light"
          }
        },
        {
          "output_type": "stream",
          "name": "stdout",
          "text": [
            "\n",
            "Creating the output file ...\n",
            "\n"
          ]
        }
      ]
    },
    {
      "cell_type": "code",
      "execution_count": null,
      "metadata": {
        "id": "h1hI8IY_cLQM"
      },
      "outputs": [],
      "source": [
        "!pip install open3d\n",
        "\n",
        "import open3d as o3d"
      ]
    },
    {
      "cell_type": "code",
      "source": [
        "pcd = o3d.io.read_point_cloud(Cloud_filename)\n",
        "pcd.estimate_normals(search_param=o3d.geometry.KDTreeSearchParamHybrid(radius=0.1, max_nn=16), fast_normal_computation=True)\n",
        "#pcd.paint_uniform_color([0.6, 0.6, 0.6])\n",
        "pcd "
      ],
      "metadata": {
        "id": "iIf_jJkQ0FnZ",
        "colab": {
          "base_uri": "https://localhost:8080/"
        },
        "outputId": "3c7cc039-7b51-4869-ee89-85065e4ce029"
      },
      "execution_count": null,
      "outputs": [
        {
          "output_type": "execute_result",
          "data": {
            "text/plain": [
              "PointCloud with 960589 points."
            ]
          },
          "metadata": {},
          "execution_count": 23
        }
      ]
    },
    {
      "cell_type": "markdown",
      "source": [
        "RANSAC "
      ],
      "metadata": {
        "id": "h1ed5Rv1NU9A"
      }
    },
    {
      "cell_type": "code",
      "source": [
        "plane_model, inliers = pcd.segment_plane(distance_threshold=0.01,ransac_n = 3,num_iterations= 2000) \n",
        "[a, b, c, d] = plane_model\n",
        "print(f\"Plane equation: {a:.2f}x + {b:.2f}y + {c:.2f}z + {d:.2f} = 0\")\n",
        "inlier_cloud = pcd.select_by_index(inliers) \n",
        "outlier_cloud = pcd.select_by_index(inliers, invert=True)\n",
        "inlier_cloud.paint_uniform_color([1.0, 0, 0])\n",
        "outlier_cloud.paint_uniform_color([0.6, 0.6, 0.6])\n",
        "o3d.io.write_point_cloud(output_path +\"ransac02.ply\", outlier_cloud + inlier_cloud) \n",
        "pcd = outlier_cloud; \n",
        "\n",
        "points = np.asarray(pcd.points) \n",
        "\n",
        "pcd.points = o3d.utility.Vector3dVector(points[points[:,2] <= 20]) \n",
        "pcd.points = o3d.utility.Vector3dVector(points[a*points[:,0] + b*points[:,1] + c*points[:,2] + d < 0])\n",
        "pcd.paint_uniform_color([0.5, 0.5, 0.5])\n",
        "o3d.io.write_point_cloud(output_path + \"delete2.ply\", pcd + inlier_cloud)"
      ],
      "metadata": {
        "id": "CIB1ngxky6r5",
        "colab": {
          "base_uri": "https://localhost:8080/"
        },
        "outputId": "89a16672-6585-46bc-87d1-7394301c1aa8"
      },
      "execution_count": null,
      "outputs": [
        {
          "output_type": "stream",
          "name": "stdout",
          "text": [
            "Plane equation: 0.06x + 0.99y + 0.09z + -0.17 = 0\n"
          ]
        },
        {
          "output_type": "execute_result",
          "data": {
            "text/plain": [
              "True"
            ]
          },
          "metadata": {},
          "execution_count": 24
        }
      ]
    },
    {
      "cell_type": "markdown",
      "source": [
        "DBSCAN "
      ],
      "metadata": {
        "id": "6QHIODHnNad-"
      }
    },
    {
      "cell_type": "code",
      "source": [
        "labels = np.array(pcd.cluster_dbscan(eps=0.008, min_points = 30))\n",
        "max_label = labels.max()\n",
        "print(f\"point cloud has {max_label + 1} clusters\")\n",
        "\n",
        "colors = plt.get_cmap(\"tab20\")(labels / (max_label if max_label > 0 else 1))\n",
        "colors[labels < 0] = 0\n",
        "pcd.colors = o3d.utility.Vector3dVector(colors[:, :3]) \n",
        "\n",
        "o3d.io.write_point_cloud(output_path + \"dbscan.ply\", pcd + inlier_cloud) \n"
      ],
      "metadata": {
        "colab": {
          "base_uri": "https://localhost:8080/"
        },
        "id": "6N2uidYnGjJ5",
        "outputId": "83d105a9-c7dc-4f16-db8a-60b97a1d0daa"
      },
      "execution_count": null,
      "outputs": [
        {
          "output_type": "stream",
          "name": "stdout",
          "text": [
            "point cloud has 20 clusters\n"
          ]
        },
        {
          "output_type": "execute_result",
          "data": {
            "text/plain": [
              "True"
            ]
          },
          "metadata": {},
          "execution_count": 28
        }
      ]
    }
  ]
}